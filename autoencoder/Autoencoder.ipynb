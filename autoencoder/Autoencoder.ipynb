{
 "cells": [
  {
   "cell_type": "markdown",
   "metadata": {},
   "source": [
    "# Autoencoder For Image\n",
    "\n",
    "This autoencoder has four convolution layers and four transpose convolution layers. \n"
   ]
  },
  {
   "cell_type": "code",
   "execution_count": 3,
   "metadata": {
    "collapsed": true
   },
   "outputs": [],
   "source": [
    "import numpy as np\n",
    "import tensorflow as tf\n",
    "import matplotlib.pyplot as plt\n",
    "\n",
    "%matplotlib inline\n",
    "plt.rcParams['figure.figsize'] = (10.0, 8.0)\n",
    "plt.rcParams['image.interpolation'] = 'nearest'\n",
    "\n",
    "LEARNING_RATE = 0.001\n",
    "BATCHSIZE = 128"
   ]
  },
  {
   "cell_type": "code",
   "execution_count": 7,
   "metadata": {
    "collapsed": true
   },
   "outputs": [],
   "source": [
    "def encoder(input_image, filter_sizes=[3, 3, 3, 3], n_filters=[16, 32, 64, 64]):\n",
    "    encoder_weights = []\n",
    "    encoder_shapes = []\n",
    "\n",
    "    # input shape must be [N, H, W, C]\n",
    "    assert len(input_image.shape) == 4, 'Unsupport input dimensions.'\n",
    "\n",
    "    def _conv2d_relu(prev_layer, filter_size, num_output, layer_name):\n",
    "        num_input = int(prev_layer.shape[3])\n",
    "        with tf.variable_scope(layer_name) as scope:\n",
    "            w = tf.Variable(\n",
    "                tf.random_uniform([filter_size, filter_size, num_input, num_output],\n",
    "                                  -1.0 / (num_input ** 0.5), 1.0 / (num_input ** 0.5)),\n",
    "                name='W')\n",
    "            # Store the weight\n",
    "            encoder_weights.append(w)\n",
    "            b = tf.Variable(tf.zeros([num_output]), name='b')\n",
    "            conv = tf.nn.conv2d(prev_layer, w, strides=[1, 2, 2, 1], padding='SAME')\n",
    "            next_layer = tf.nn.relu(conv + b, name=scope.name)\n",
    "        return next_layer\n",
    "\n",
    "    # build the convolution layers\n",
    "    prev_layer = input_image\n",
    "    for i in xrange(len(n_filters)):\n",
    "        encoder_shapes.append(prev_layer.shape.as_list())\n",
    "        next_layer = _conv2d_relu(prev_layer, filter_sizes[i], n_filters[i], layer_name='conv_relu_%d' % i)\n",
    "        prev_layer = next_layer\n",
    "    all_num_feat = prev_layer.shape.as_list()[1] * prev_layer.shape.as_list()[2] * prev_layer.shape.as_list()[3]\n",
    "    prev_layer = tf.reshape(prev_layer, [-1, all_num_feat])\n",
    "    # build the fully connected layers\n",
    "    fc_dims = [4096, 1024, 4096]\n",
    "    for i in xrange(len(fc_dims)):\n",
    "        num_input = int(prev_layer.shape[1])\n",
    "        with tf.variable_scope('encoder_fc_%d' % i) as scope:\n",
    "            w = tf.Variable(tf.random_uniform([num_input, fc_dims[i]],\n",
    "                                              -1.0 / (num_input ** 0.5), 1.0 / (num_input ** 0.5)), name='w')\n",
    "            b = tf.Variable(tf.zeros([fc_dims[i]]))\n",
    "\n",
    "        next_layer = tf.nn.relu(tf.matmul(prev_layer, w) + b, name=scope.name)\n",
    "        prev_layer = next_layer\n",
    "\n",
    "    return prev_layer, encoder_weights, encoder_shapes"
   ]
  },
  {
   "cell_type": "code",
   "execution_count": 5,
   "metadata": {
    "collapsed": true
   },
   "outputs": [],
   "source": [
    "# define the decoder\n",
    "def decoder(prev_layer, encoder_weights, encoder_shapes):\n",
    "    decoder_weights = encoder_weights[::-1]\n",
    "    decoder_shapes = encoder_shapes[::-1]\n",
    "\n",
    "    assert int(prev_layer.shape[1]) == 4096, 'Error with input dimension in decoder.'\n",
    "    prev_layer = tf.reshape(prev_layer, [-1, 8, 8, 64])\n",
    "    for i in xrange(len(decoder_shapes)):\n",
    "        shape = decoder_shapes[i]\n",
    "        w = decoder_weights[i]\n",
    "        b = tf.Variable(tf.zeros([int(w.get_shape().as_list()[2])]))\n",
    "        deconv = tf.nn.conv2d_transpose(prev_layer, w,\n",
    "                                        output_shape=tf.stack([tf.shape(prev_layer)[0], shape[1], shape[2], shape[3]]),\n",
    "                                        strides=[1, 2, 2, 1], padding='SAME')\n",
    "        next_layer = tf.nn.relu(deconv + b)\n",
    "        prev_layer = next_layer\n",
    "    return prev_layer\n"
   ]
  },
  {
   "cell_type": "code",
   "execution_count": 8,
   "metadata": {
    "collapsed": false
   },
   "outputs": [],
   "source": [
    "# Bulid the autoencoder\n",
    "input_shape = [None, 64, 64, 3]\n",
    "input_image = tf.placeholder(tf.float32, shape=input_shape, name='Input')\n",
    "\n",
    "prev_layer, encoder_weights, encoder_shapes = encoder(input_image)\n",
    "prev_layer = decoder(prev_layer, encoder_weights, encoder_shapes)"
   ]
  },
  {
   "cell_type": "code",
   "execution_count": 10,
   "metadata": {
    "collapsed": false
   },
   "outputs": [
    {
     "name": "stdout",
     "output_type": "stream",
     "text": [
      "[[None, 64, 64, 3], [None, 32, 32, 16], [None, 16, 16, 32], [None, 8, 8, 64]]\n"
     ]
    }
   ],
   "source": [
    "print encoder_shapes"
   ]
  },
  {
   "cell_type": "code",
   "execution_count": null,
   "metadata": {
    "collapsed": true
   },
   "outputs": [],
   "source": []
  }
 ],
 "metadata": {
  "anaconda-cloud": {},
  "kernelspec": {
   "display_name": "Python [Root]",
   "language": "python",
   "name": "Python [Root]"
  },
  "language_info": {
   "codemirror_mode": {
    "name": "ipython",
    "version": 2
   },
   "file_extension": ".py",
   "mimetype": "text/x-python",
   "name": "python",
   "nbconvert_exporter": "python",
   "pygments_lexer": "ipython2",
   "version": "2.7.12"
  }
 },
 "nbformat": 4,
 "nbformat_minor": 0
}
