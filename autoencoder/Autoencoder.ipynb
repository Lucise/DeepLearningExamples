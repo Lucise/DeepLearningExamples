{
 "cells": [
  {
   "cell_type": "markdown",
   "metadata": {},
   "source": [
    "# Autoencoder For Image\n",
    "\n",
    "This autoencoder has four convolution layers and four transpose convolution layers. \n"
   ]
  },
  {
   "cell_type": "code",
   "execution_count": 1,
   "metadata": {
    "collapsed": true
   },
   "outputs": [],
   "source": [
    "import numpy as np\n",
    "import tensorflow as tf\n",
    "import matplotlib.pyplot as plt\n",
    "\n",
    "%matplotlib inline\n",
    "plt.rcParams['figure.figsize'] = (10.0, 8.0)\n",
    "plt.rcParams['image.interpolation'] = 'nearest'\n",
    "\n",
    "LEARNING_RATE = 0.001\n",
    "BATCHSIZE = 128"
   ]
  },
  {
   "cell_type": "code",
   "execution_count": 2,
   "metadata": {
    "collapsed": true
   },
   "outputs": [],
   "source": [
    "# define the encoder\n",
    "\n",
    "def encoder(input_shape=[None, 64, 64, 3], \n",
    "            filter_sizes=[3, 3, 3, 3], n_filters=[16, 32, 64, 128]):\n",
    "    \n",
    "    input_image = tf.placeholder(tf.float32, shape=input_shape, name='Input')\n",
    "    # input shape must be [N, H, W, C]\n",
    "    assert len(input_image) == 4, 'Unsupport input dimensions.'\n",
    "    def _conv2d_relu(prev_layer, filter_size, num_output, layer_name):\n",
    "        num_input = int(prev_layer.shape[0])\n",
    "\n",
    "        with tf.variable_scope(layername) as scope:\n",
    "            w = tf.Variable(\n",
    "                tf.random_uniform([filter_size, filter_size, num_input, num_output], \n",
    "                                  -1.0/(num_input**0.5), 1.0/(num_input**0.5)),\n",
    "                name='W')\n",
    "            b = tf.Variable([num_output], name='b')\n",
    "            conv = tf.nn.conv2d(prev_layer, w, strides=[1, 2, 2, 1], padding='SAME')\n",
    "            next_layer = tf.nn.relu(conv + b, name=scope.name)\n",
    "        return next_layer\n",
    "    \n",
    "    # bulid the encoder\n",
    "    prev_layer = input_image\n",
    "    for i in xrange(len(n_filters)):\n",
    "        next_layer = _conv2d_relu(prev_layer, filter_sizes[i], n_filters[i], layer_name='conv_relu_%d' % i)\n",
    "        prev_layer = next_layer\n",
    "    \n",
    "    return input_image, prev_layer"
   ]
  },
  {
   "cell_type": "code",
   "execution_count": null,
   "metadata": {
    "collapsed": true
   },
   "outputs": [],
   "source": []
  }
 ],
 "metadata": {
  "anaconda-cloud": {},
  "kernelspec": {
   "display_name": "Python [Root]",
   "language": "python",
   "name": "Python [Root]"
  },
  "language_info": {
   "codemirror_mode": {
    "name": "ipython",
    "version": 2
   },
   "file_extension": ".py",
   "mimetype": "text/x-python",
   "name": "python",
   "nbconvert_exporter": "python",
   "pygments_lexer": "ipython2",
   "version": "2.7.12"
  }
 },
 "nbformat": 4,
 "nbformat_minor": 0
}
